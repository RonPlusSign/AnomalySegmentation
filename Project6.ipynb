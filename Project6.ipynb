{
  "nbformat": 4,
  "nbformat_minor": 0,
  "metadata": {
    "colab": {
      "provenance": []
    },
    "kernelspec": {
      "name": "python3",
      "display_name": "Python 3"
    },
    "language_info": {
      "name": "python"
    }
  },
  "cells": [
    {
      "cell_type": "markdown",
      "source": [
        "[![Open In Colab](https://colab.research.google.com/assets/colab-badge.svg)](https://colab.research.google.com/github/RonPlusSign/AnomalySegmentation/blob/main/Project6.ipynb)"
      ],
      "metadata": {
        "id": "ypo8OBRZ-1p3"
      }
    },
    {
      "cell_type": "markdown",
      "source": [
        "# **Anomaly Segmentation Project 6**\n",
        "##*Andrea Delli, Christian Dellisanti, Giorgia Modi*"
      ],
      "metadata": {
        "id": "AUjRrYEW8-uz"
      }
    },
    {
      "cell_type": "markdown",
      "source": [
        "###**Dataset Preparation**"
      ],
      "metadata": {
        "id": "4x3MajLNeXhX"
      }
    },
    {
      "cell_type": "code",
      "source": [
        "import sys, os\n",
        "\n",
        "#SMIYC RA-21\n",
        "if not os.path.isfile('/content/dataset_AnomalyTrack.zip'):\n",
        "  !wget https://zenodo.org/record/5270237/files/dataset_AnomalyTrack.zip\n",
        "if not os.path.isdir('/content/dataset_AnomalyTrack'):\n",
        "  !unzip ./dataset_AnomalyTrack.zip\n",
        "#SMIYC RO-21\n",
        "if not os.path.isfile('/content/dataset_ObstacleTrack.zip'):\n",
        "  !wget https://zenodo.org/record/5281633/files/dataset_ObstacleTrack.zip\n",
        "if not os.path.isdir('/content/dataset_ObstacleTrack'):\n",
        "  !unzip ./dataset_ObstacleTrack.zip\n",
        "\n",
        "#FS L&F\n",
        "if not os.path.isfile('/content/fishyscapes_lostandfound.zip'):\n",
        "  !wget http://robotics.ethz.ch/~asl-datasets/Fishyscapes/fishyscapes_lostandfound.zip\n",
        "if not os.path.isdir('/content/fishyscapes_lostandfound'):\n",
        "  !unzip ./fishyscapes_lostandfound.zip -d fishyscapes_lostandfound"
      ],
      "metadata": {
        "colab": {
          "base_uri": "https://localhost:8080/"
        },
        "collapsed": true,
        "id": "B_tj8W3BeVPo",
        "outputId": "3aceaffa-5e0e-4595-c475-215923f03bb5"
      },
      "execution_count": 11,
      "outputs": [
        {
          "output_type": "stream",
          "name": "stdout",
          "text": [
            "Archive:  ./fishyscapes_lostandfound.zip\n",
            "  inflating: fishyscapes_lostandfound/0000_04_Maurener_Weg_8_000000_000030_labels.png  \n",
            "  inflating: fishyscapes_lostandfound/0001_04_Maurener_Weg_8_000000_000090_labels.png  \n",
            "  inflating: fishyscapes_lostandfound/0002_04_Maurener_Weg_8_000000_000150_labels.png  \n",
            "  inflating: fishyscapes_lostandfound/0003_04_Maurener_Weg_8_000000_000180_labels.png  \n",
            "  inflating: fishyscapes_lostandfound/0004_04_Maurener_Weg_8_000001_000030_labels.png  \n",
            "  inflating: fishyscapes_lostandfound/0005_04_Maurener_Weg_8_000001_000090_labels.png  \n",
            "  inflating: fishyscapes_lostandfound/0006_04_Maurener_Weg_8_000001_000150_labels.png  \n",
            "  inflating: fishyscapes_lostandfound/0007_04_Maurener_Weg_8_000001_000180_labels.png  \n",
            "  inflating: fishyscapes_lostandfound/0008_04_Maurener_Weg_8_000001_000210_labels.png  \n",
            "  inflating: fishyscapes_lostandfound/0009_04_Maurener_Weg_8_000002_000060_labels.png  \n",
            "  inflating: fishyscapes_lostandfound/0010_04_Maurener_Weg_8_000002_000120_labels.png  \n",
            "  inflating: fishyscapes_lostandfound/0011_04_Maurener_Weg_8_000002_000150_labels.png  \n",
            "  inflating: fishyscapes_lostandfound/0012_04_Maurener_Weg_8_000003_000030_labels.png  \n",
            "  inflating: fishyscapes_lostandfound/0013_04_Maurener_Weg_8_000003_000090_labels.png  \n",
            "  inflating: fishyscapes_lostandfound/0014_04_Maurener_Weg_8_000003_000120_labels.png  \n",
            "  inflating: fishyscapes_lostandfound/0015_04_Maurener_Weg_8_000004_000020_labels.png  \n",
            "  inflating: fishyscapes_lostandfound/0016_04_Maurener_Weg_8_000004_000080_labels.png  \n",
            "  inflating: fishyscapes_lostandfound/0017_04_Maurener_Weg_8_000004_000140_labels.png  \n",
            "  inflating: fishyscapes_lostandfound/0018_04_Maurener_Weg_8_000004_000170_labels.png  \n",
            "  inflating: fishyscapes_lostandfound/0019_04_Maurener_Weg_8_000004_000200_labels.png  \n",
            "  inflating: fishyscapes_lostandfound/0020_04_Maurener_Weg_8_000005_000050_labels.png  \n",
            "  inflating: fishyscapes_lostandfound/0021_04_Maurener_Weg_8_000005_000110_labels.png  \n",
            "  inflating: fishyscapes_lostandfound/0022_04_Maurener_Weg_8_000005_000170_labels.png  \n",
            "  inflating: fishyscapes_lostandfound/0023_04_Maurener_Weg_8_000005_000200_labels.png  \n",
            "  inflating: fishyscapes_lostandfound/0024_04_Maurener_Weg_8_000006_000040_labels.png  \n",
            "  inflating: fishyscapes_lostandfound/0025_04_Maurener_Weg_8_000006_000100_labels.png  \n",
            "  inflating: fishyscapes_lostandfound/0026_04_Maurener_Weg_8_000006_000130_labels.png  \n",
            "  inflating: fishyscapes_lostandfound/0027_04_Maurener_Weg_8_000007_000020_labels.png  \n",
            "  inflating: fishyscapes_lostandfound/0028_04_Maurener_Weg_8_000007_000080_labels.png  \n",
            "  inflating: fishyscapes_lostandfound/0029_04_Maurener_Weg_8_000007_000140_labels.png  \n",
            "  inflating: fishyscapes_lostandfound/0030_04_Maurener_Weg_8_000007_000170_labels.png  \n",
            "  inflating: fishyscapes_lostandfound/0031_04_Maurener_Weg_8_000008_000040_labels.png  \n",
            "  inflating: fishyscapes_lostandfound/0032_04_Maurener_Weg_8_000008_000100_labels.png  \n",
            "  inflating: fishyscapes_lostandfound/0033_04_Maurener_Weg_8_000008_000130_labels.png  \n",
            "  inflating: fishyscapes_lostandfound/0034_04_Maurener_Weg_8_000008_000160_labels.png  \n",
            "  inflating: fishyscapes_lostandfound/0035_04_Maurener_Weg_8_000008_000190_labels.png  \n",
            "  inflating: fishyscapes_lostandfound/0036_01_Hanns_Klemm_Str_45_000000_000080_labels.png  \n",
            "  inflating: fishyscapes_lostandfound/0037_01_Hanns_Klemm_Str_45_000000_000140_labels.png  \n",
            "  inflating: fishyscapes_lostandfound/0038_01_Hanns_Klemm_Str_45_000000_000200_labels.png  \n",
            "  inflating: fishyscapes_lostandfound/0039_01_Hanns_Klemm_Str_45_000000_000230_labels.png  \n",
            "  inflating: fishyscapes_lostandfound/0040_01_Hanns_Klemm_Str_45_000000_000260_labels.png  \n",
            "  inflating: fishyscapes_lostandfound/0041_01_Hanns_Klemm_Str_45_000001_000060_labels.png  \n",
            "  inflating: fishyscapes_lostandfound/0042_01_Hanns_Klemm_Str_45_000001_000120_labels.png  \n",
            "  inflating: fishyscapes_lostandfound/0043_01_Hanns_Klemm_Str_45_000001_000180_labels.png  \n",
            "  inflating: fishyscapes_lostandfound/0044_01_Hanns_Klemm_Str_45_000001_000210_labels.png  \n",
            "  inflating: fishyscapes_lostandfound/0045_01_Hanns_Klemm_Str_45_000001_000240_labels.png  \n",
            "  inflating: fishyscapes_lostandfound/0046_01_Hanns_Klemm_Str_45_000002_000070_labels.png  \n",
            "  inflating: fishyscapes_lostandfound/0047_01_Hanns_Klemm_Str_45_000002_000130_labels.png  \n",
            "  inflating: fishyscapes_lostandfound/0048_01_Hanns_Klemm_Str_45_000002_000190_labels.png  \n",
            "  inflating: fishyscapes_lostandfound/0049_01_Hanns_Klemm_Str_45_000002_000220_labels.png  \n",
            "  inflating: fishyscapes_lostandfound/0050_01_Hanns_Klemm_Str_45_000003_000030_labels.png  \n",
            "  inflating: fishyscapes_lostandfound/0051_01_Hanns_Klemm_Str_45_000003_000090_labels.png  \n",
            "  inflating: fishyscapes_lostandfound/0052_01_Hanns_Klemm_Str_45_000003_000150_labels.png  \n",
            "  inflating: fishyscapes_lostandfound/0053_01_Hanns_Klemm_Str_45_000003_000180_labels.png  \n",
            "  inflating: fishyscapes_lostandfound/0054_01_Hanns_Klemm_Str_45_000003_000210_labels.png  \n",
            "  inflating: fishyscapes_lostandfound/0055_01_Hanns_Klemm_Str_45_000004_000120_labels.png  \n",
            "  inflating: fishyscapes_lostandfound/0056_01_Hanns_Klemm_Str_45_000004_000180_labels.png  \n",
            "  inflating: fishyscapes_lostandfound/0057_01_Hanns_Klemm_Str_45_000004_000210_labels.png  \n",
            "  inflating: fishyscapes_lostandfound/0058_01_Hanns_Klemm_Str_45_000005_000080_labels.png  \n",
            "  inflating: fishyscapes_lostandfound/0059_01_Hanns_Klemm_Str_45_000005_000140_labels.png  \n",
            "  inflating: fishyscapes_lostandfound/0060_01_Hanns_Klemm_Str_45_000005_000200_labels.png  \n",
            "  inflating: fishyscapes_lostandfound/0061_01_Hanns_Klemm_Str_45_000005_000230_labels.png  \n",
            "  inflating: fishyscapes_lostandfound/0062_01_Hanns_Klemm_Str_45_000008_000060_labels.png  \n",
            "  inflating: fishyscapes_lostandfound/0063_01_Hanns_Klemm_Str_45_000008_000120_labels.png  \n",
            "  inflating: fishyscapes_lostandfound/0064_01_Hanns_Klemm_Str_45_000008_000180_labels.png  \n",
            "  inflating: fishyscapes_lostandfound/0065_01_Hanns_Klemm_Str_45_000008_000240_labels.png  \n",
            "  inflating: fishyscapes_lostandfound/0066_01_Hanns_Klemm_Str_45_000009_000090_labels.png  \n",
            "  inflating: fishyscapes_lostandfound/0067_01_Hanns_Klemm_Str_45_000009_000150_labels.png  \n",
            "  inflating: fishyscapes_lostandfound/0068_01_Hanns_Klemm_Str_45_000009_000210_labels.png  \n",
            "  inflating: fishyscapes_lostandfound/0069_01_Hanns_Klemm_Str_45_000010_000050_labels.png  \n",
            "  inflating: fishyscapes_lostandfound/0070_01_Hanns_Klemm_Str_45_000010_000110_labels.png  \n",
            "  inflating: fishyscapes_lostandfound/0071_01_Hanns_Klemm_Str_45_000010_000170_labels.png  \n",
            "  inflating: fishyscapes_lostandfound/0072_01_Hanns_Klemm_Str_45_000010_000200_labels.png  \n",
            "  inflating: fishyscapes_lostandfound/0073_01_Hanns_Klemm_Str_45_000011_000050_labels.png  \n",
            "  inflating: fishyscapes_lostandfound/0074_01_Hanns_Klemm_Str_45_000011_000110_labels.png  \n",
            "  inflating: fishyscapes_lostandfound/0075_01_Hanns_Klemm_Str_45_000011_000170_labels.png  \n",
            "  inflating: fishyscapes_lostandfound/0076_01_Hanns_Klemm_Str_45_000011_000200_labels.png  \n",
            "  inflating: fishyscapes_lostandfound/0077_01_Hanns_Klemm_Str_45_000011_000230_labels.png  \n",
            "  inflating: fishyscapes_lostandfound/0078_01_Hanns_Klemm_Str_45_000011_000260_labels.png  \n",
            "  inflating: fishyscapes_lostandfound/0079_01_Hanns_Klemm_Str_45_000012_000160_labels.png  \n",
            "  inflating: fishyscapes_lostandfound/0080_01_Hanns_Klemm_Str_45_000012_000220_labels.png  \n",
            "  inflating: fishyscapes_lostandfound/0081_01_Hanns_Klemm_Str_45_000012_000250_labels.png  \n",
            "  inflating: fishyscapes_lostandfound/0082_01_Hanns_Klemm_Str_45_000012_000280_labels.png  \n",
            "  inflating: fishyscapes_lostandfound/0083_13_Elly_Beinhorn_Str_000000_000050_labels.png  \n",
            "  inflating: fishyscapes_lostandfound/0084_13_Elly_Beinhorn_Str_000000_000110_labels.png  \n",
            "  inflating: fishyscapes_lostandfound/0085_13_Elly_Beinhorn_Str_000000_000170_labels.png  \n",
            "  inflating: fishyscapes_lostandfound/0086_13_Elly_Beinhorn_Str_000000_000230_labels.png  \n",
            "  inflating: fishyscapes_lostandfound/0087_13_Elly_Beinhorn_Str_000000_000260_labels.png  \n",
            "  inflating: fishyscapes_lostandfound/0088_13_Elly_Beinhorn_Str_000000_000290_labels.png  \n",
            "  inflating: fishyscapes_lostandfound/0089_13_Elly_Beinhorn_Str_000001_000080_labels.png  \n",
            "  inflating: fishyscapes_lostandfound/0090_13_Elly_Beinhorn_Str_000001_000140_labels.png  \n",
            "  inflating: fishyscapes_lostandfound/0091_13_Elly_Beinhorn_Str_000001_000200_labels.png  \n",
            "  inflating: fishyscapes_lostandfound/0092_13_Elly_Beinhorn_Str_000001_000230_labels.png  \n",
            "  inflating: fishyscapes_lostandfound/0093_13_Elly_Beinhorn_Str_000002_000030_labels.png  \n",
            "  inflating: fishyscapes_lostandfound/0094_13_Elly_Beinhorn_Str_000002_000090_labels.png  \n",
            "  inflating: fishyscapes_lostandfound/0095_13_Elly_Beinhorn_Str_000002_000120_labels.png  \n",
            "  inflating: fishyscapes_lostandfound/0096_13_Elly_Beinhorn_Str_000003_000080_labels.png  \n",
            "  inflating: fishyscapes_lostandfound/0097_13_Elly_Beinhorn_Str_000003_000140_labels.png  \n",
            "  inflating: fishyscapes_lostandfound/0098_13_Elly_Beinhorn_Str_000003_000200_labels.png  \n",
            "  inflating: fishyscapes_lostandfound/0099_13_Elly_Beinhorn_Str_000003_000260_labels.png  \n"
          ]
        }
      ]
    }
  ]
}