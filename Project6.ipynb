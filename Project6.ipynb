{
  "nbformat": 4,
  "nbformat_minor": 0,
  "metadata": {
    "colab": {
      "provenance": []
    },
    "kernelspec": {
      "name": "python3",
      "display_name": "Python 3"
    },
    "language_info": {
      "name": "python"
    }
  },
  "cells": [
    {
      "cell_type": "markdown",
      "source": [
        "[![Open In Colab](https://colab.research.google.com/assets/colab-badge.svg)](https://colab.research.google.com/github/RonPlusSign/AnomalySegmentation/blob/main/Project6.ipynb)"
      ],
      "metadata": {
        "id": "ypo8OBRZ-1p3"
      }
    },
    {
      "cell_type": "markdown",
      "source": [
        "# **Anomaly Segmentation Project 6**\n",
        "##*Andrea Delli, Christian Dellisanti, Giorgia Modi*"
      ],
      "metadata": {
        "id": "AUjRrYEW8-uz"
      }
    },
    {
      "cell_type": "markdown",
      "source": [
        "###**Dataset Preparation**"
      ],
      "metadata": {
        "id": "4x3MajLNeXhX"
      }
    },
    {
      "cell_type": "code",
      "source": [
        "import sys, os\n",
        "\n",
        "#SMIYC RA-21\n",
        "if not os.path.isfile('/content/dataset_AnomalyTrack.zip'):\n",
        "  !wget https://zenodo.org/record/5270237/files/dataset_AnomalyTrack.zip\n",
        "if not os.path.isdir('/content/dataset_AnomalyTrack'):\n",
        "  !unzip ./dataset_AnomalyTrack.zip\n",
        "#SMIYC RO-21\n",
        "if not os.path.isfile('/content/dataset_ObstacleTrack.zip'):\n",
        "  !wget https://zenodo.org/record/5281633/files/dataset_ObstacleTrack.zip\n",
        "if not os.path.isdir('/content/dataset_ObstacleTrack'):\n",
        "  !unzip ./dataset_ObstacleTrack.zip"
      ],
      "metadata": {
        "id": "B_tj8W3BeVPo",
        "outputId": "50b0b89b-6ffd-4276-a800-a235168f12a5",
        "colab": {
          "base_uri": "https://localhost:8080/"
        }
      },
      "execution_count": 7,
      "outputs": [
        {
          "output_type": "stream",
          "name": "stdout",
          "text": [
            "Archive:  ./dataset_AnomalyTrack.zip\n",
            "   creating: /content/dataset_AnomalyTrack/dataset_AnomalyTrack/\n",
            "  inflating: /content/dataset_AnomalyTrack/dataset_AnomalyTrack/LICENSE.txt  \n",
            "   creating: /content/dataset_AnomalyTrack/dataset_AnomalyTrack/images/\n",
            "  inflating: /content/dataset_AnomalyTrack/dataset_AnomalyTrack/images/airplane0000.jpg  \n",
            "  inflating: /content/dataset_AnomalyTrack/dataset_AnomalyTrack/images/airplane0001.jpg  \n",
            "  inflating: /content/dataset_AnomalyTrack/dataset_AnomalyTrack/images/bear0000.jpg  \n",
            "  inflating: /content/dataset_AnomalyTrack/dataset_AnomalyTrack/images/boat_trailer0000.jpg  \n",
            "  inflating: /content/dataset_AnomalyTrack/dataset_AnomalyTrack/images/boat_trailer0001.jpg  \n",
            "  inflating: /content/dataset_AnomalyTrack/dataset_AnomalyTrack/images/boat_trailer0002.jpg  \n",
            "  inflating: /content/dataset_AnomalyTrack/dataset_AnomalyTrack/images/boat_trailer0003.jpg  \n",
            "  inflating: /content/dataset_AnomalyTrack/dataset_AnomalyTrack/images/boat_trailer0004.jpg  \n",
            "  inflating: /content/dataset_AnomalyTrack/dataset_AnomalyTrack/images/camel0000.jpg  \n",
            "  inflating: /content/dataset_AnomalyTrack/dataset_AnomalyTrack/images/camel0001.jpg  \n",
            "  inflating: /content/dataset_AnomalyTrack/dataset_AnomalyTrack/images/caravan0000.jpg  \n",
            "  inflating: /content/dataset_AnomalyTrack/dataset_AnomalyTrack/images/caravan0001.jpg  \n",
            "  inflating: /content/dataset_AnomalyTrack/dataset_AnomalyTrack/images/caravan0002.jpg  \n",
            "  inflating: /content/dataset_AnomalyTrack/dataset_AnomalyTrack/images/caravan0003.jpg  \n",
            "  inflating: /content/dataset_AnomalyTrack/dataset_AnomalyTrack/images/caravan0004.jpg  \n",
            "  inflating: /content/dataset_AnomalyTrack/dataset_AnomalyTrack/images/caravan0005.jpg  \n",
            "  inflating: /content/dataset_AnomalyTrack/dataset_AnomalyTrack/images/caravan0006.jpg  \n",
            "  inflating: /content/dataset_AnomalyTrack/dataset_AnomalyTrack/images/caravan0007.jpg  \n",
            "  inflating: /content/dataset_AnomalyTrack/dataset_AnomalyTrack/images/carriage0000.jpg  \n",
            "  inflating: /content/dataset_AnomalyTrack/dataset_AnomalyTrack/images/carriage0001.jpg  \n",
            "  inflating: /content/dataset_AnomalyTrack/dataset_AnomalyTrack/images/carriage0002.jpg  \n",
            "  inflating: /content/dataset_AnomalyTrack/dataset_AnomalyTrack/images/carriage0003.jpg  \n",
            "  inflating: /content/dataset_AnomalyTrack/dataset_AnomalyTrack/images/carriage0004.jpg  \n",
            "  inflating: /content/dataset_AnomalyTrack/dataset_AnomalyTrack/images/carriage0005.jpg  \n",
            "  inflating: /content/dataset_AnomalyTrack/dataset_AnomalyTrack/images/carriage0006.jpg  \n",
            "  inflating: /content/dataset_AnomalyTrack/dataset_AnomalyTrack/images/carriage0007.jpg  \n",
            "  inflating: /content/dataset_AnomalyTrack/dataset_AnomalyTrack/images/cock0000.jpg  \n",
            "  inflating: /content/dataset_AnomalyTrack/dataset_AnomalyTrack/images/coffin0000.jpg  \n",
            "  inflating: /content/dataset_AnomalyTrack/dataset_AnomalyTrack/images/cones0000.jpg  \n",
            "  inflating: /content/dataset_AnomalyTrack/dataset_AnomalyTrack/images/cones0001.jpg  \n",
            "  inflating: /content/dataset_AnomalyTrack/dataset_AnomalyTrack/images/cones0002.jpg  \n",
            "  inflating: /content/dataset_AnomalyTrack/dataset_AnomalyTrack/images/cones0003.jpg  \n",
            "  inflating: /content/dataset_AnomalyTrack/dataset_AnomalyTrack/images/cones0004.jpg  \n",
            "  inflating: /content/dataset_AnomalyTrack/dataset_AnomalyTrack/images/cones0005.jpg  \n",
            "  inflating: /content/dataset_AnomalyTrack/dataset_AnomalyTrack/images/cones0006.jpg  \n",
            "  inflating: /content/dataset_AnomalyTrack/dataset_AnomalyTrack/images/cow0000.jpg  \n",
            "  inflating: /content/dataset_AnomalyTrack/dataset_AnomalyTrack/images/cow0001.jpg  \n",
            "  inflating: /content/dataset_AnomalyTrack/dataset_AnomalyTrack/images/cow0002.jpg  \n",
            "  inflating: /content/dataset_AnomalyTrack/dataset_AnomalyTrack/images/cow0003.jpg  \n",
            "  inflating: /content/dataset_AnomalyTrack/dataset_AnomalyTrack/images/cow0004.jpg  \n",
            "  inflating: /content/dataset_AnomalyTrack/dataset_AnomalyTrack/images/cow0005.jpg  \n",
            "  inflating: /content/dataset_AnomalyTrack/dataset_AnomalyTrack/images/cow0006.jpg  \n",
            "  inflating: /content/dataset_AnomalyTrack/dataset_AnomalyTrack/images/cow0007.jpg  \n",
            "  inflating: /content/dataset_AnomalyTrack/dataset_AnomalyTrack/images/cow0008.jpg  \n",
            "  inflating: /content/dataset_AnomalyTrack/dataset_AnomalyTrack/images/cow0009.jpg  \n",
            "  inflating: /content/dataset_AnomalyTrack/dataset_AnomalyTrack/images/cow0010.jpg  \n",
            "  inflating: /content/dataset_AnomalyTrack/dataset_AnomalyTrack/images/cow0011.jpg  \n",
            "  inflating: /content/dataset_AnomalyTrack/dataset_AnomalyTrack/images/cow0012.jpg  \n",
            "  inflating: /content/dataset_AnomalyTrack/dataset_AnomalyTrack/images/cow0013.jpg  \n",
            "  inflating: /content/dataset_AnomalyTrack/dataset_AnomalyTrack/images/deer0000.jpg  \n",
            "  inflating: /content/dataset_AnomalyTrack/dataset_AnomalyTrack/images/deer0001.jpg  \n",
            "  inflating: /content/dataset_AnomalyTrack/dataset_AnomalyTrack/images/donkey0000.jpg  \n",
            "  inflating: /content/dataset_AnomalyTrack/dataset_AnomalyTrack/images/donkey0001.jpg  \n",
            "  inflating: /content/dataset_AnomalyTrack/dataset_AnomalyTrack/images/elephant0000.jpg  \n",
            "  inflating: /content/dataset_AnomalyTrack/dataset_AnomalyTrack/images/elephant0001.jpg  \n",
            "  inflating: /content/dataset_AnomalyTrack/dataset_AnomalyTrack/images/elephant0002.jpg  \n",
            "  inflating: /content/dataset_AnomalyTrack/dataset_AnomalyTrack/images/elephant0003.jpg  \n",
            "  inflating: /content/dataset_AnomalyTrack/dataset_AnomalyTrack/images/elephant0004.jpg  \n",
            "  inflating: /content/dataset_AnomalyTrack/dataset_AnomalyTrack/images/elephant0005.jpg  \n",
            "  inflating: /content/dataset_AnomalyTrack/dataset_AnomalyTrack/images/elephant0006.jpg  \n",
            "  inflating: /content/dataset_AnomalyTrack/dataset_AnomalyTrack/images/elephant0007.jpg  \n",
            "  inflating: /content/dataset_AnomalyTrack/dataset_AnomalyTrack/images/elephant0008.jpg  \n",
            "  inflating: /content/dataset_AnomalyTrack/dataset_AnomalyTrack/images/elephant0009.jpg  \n",
            "  inflating: /content/dataset_AnomalyTrack/dataset_AnomalyTrack/images/elephant0010.jpg  \n",
            "  inflating: /content/dataset_AnomalyTrack/dataset_AnomalyTrack/images/elephant0011.jpg  \n",
            "  inflating: /content/dataset_AnomalyTrack/dataset_AnomalyTrack/images/goose0000.jpg  \n",
            "  inflating: /content/dataset_AnomalyTrack/dataset_AnomalyTrack/images/hay0000.jpg  \n",
            "  inflating: /content/dataset_AnomalyTrack/dataset_AnomalyTrack/images/horse0000.jpg  \n",
            "  inflating: /content/dataset_AnomalyTrack/dataset_AnomalyTrack/images/horse0001.jpg  \n",
            "  inflating: /content/dataset_AnomalyTrack/dataset_AnomalyTrack/images/horse0002.jpg  \n",
            "  inflating: /content/dataset_AnomalyTrack/dataset_AnomalyTrack/images/horse0003.jpg  \n",
            "  inflating: /content/dataset_AnomalyTrack/dataset_AnomalyTrack/images/horse0004.jpg  \n",
            "  inflating: /content/dataset_AnomalyTrack/dataset_AnomalyTrack/images/leopard0000.jpg  \n",
            "  inflating: /content/dataset_AnomalyTrack/dataset_AnomalyTrack/images/lion0000.jpg  \n",
            "  inflating: /content/dataset_AnomalyTrack/dataset_AnomalyTrack/images/piano0000.jpg  \n",
            "  inflating: /content/dataset_AnomalyTrack/dataset_AnomalyTrack/images/pig0000.jpg  \n",
            "  inflating: /content/dataset_AnomalyTrack/dataset_AnomalyTrack/images/pig0001.jpg  \n",
            "  inflating: /content/dataset_AnomalyTrack/dataset_AnomalyTrack/images/rhino0000.jpg  \n",
            "  inflating: /content/dataset_AnomalyTrack/dataset_AnomalyTrack/images/rhino0001.jpg  \n",
            "  inflating: /content/dataset_AnomalyTrack/dataset_AnomalyTrack/images/scooter0000.jpg  \n",
            "  inflating: /content/dataset_AnomalyTrack/dataset_AnomalyTrack/images/sheep0000.jpg  \n",
            "  inflating: /content/dataset_AnomalyTrack/dataset_AnomalyTrack/images/sheep0001.jpg  \n",
            "  inflating: /content/dataset_AnomalyTrack/dataset_AnomalyTrack/images/sheep0002.jpg  \n",
            "  inflating: /content/dataset_AnomalyTrack/dataset_AnomalyTrack/images/sheep0003.jpg  \n",
            "  inflating: /content/dataset_AnomalyTrack/dataset_AnomalyTrack/images/sheep0004.jpg  \n",
            "  inflating: /content/dataset_AnomalyTrack/dataset_AnomalyTrack/images/sheep0005.jpg  \n",
            "  inflating: /content/dataset_AnomalyTrack/dataset_AnomalyTrack/images/sheep0006.jpg  \n",
            "  inflating: /content/dataset_AnomalyTrack/dataset_AnomalyTrack/images/sheep0007.jpg  \n",
            "  inflating: /content/dataset_AnomalyTrack/dataset_AnomalyTrack/images/sheep0008.jpg  \n",
            "  inflating: /content/dataset_AnomalyTrack/dataset_AnomalyTrack/images/sheep0009.jpg  \n",
            "  inflating: /content/dataset_AnomalyTrack/dataset_AnomalyTrack/images/sheep0010.jpg  \n",
            "  inflating: /content/dataset_AnomalyTrack/dataset_AnomalyTrack/images/tent0000.jpg  \n",
            "  inflating: /content/dataset_AnomalyTrack/dataset_AnomalyTrack/images/tractor0000.jpg  \n",
            "  inflating: /content/dataset_AnomalyTrack/dataset_AnomalyTrack/images/tractor0001.jpg  \n",
            "  inflating: /content/dataset_AnomalyTrack/dataset_AnomalyTrack/images/tractor0002.jpg  \n",
            "  inflating: /content/dataset_AnomalyTrack/dataset_AnomalyTrack/images/tractor0003.jpg  \n",
            "  inflating: /content/dataset_AnomalyTrack/dataset_AnomalyTrack/images/tractor0004.jpg  \n",
            "  inflating: /content/dataset_AnomalyTrack/dataset_AnomalyTrack/images/tractor0005.jpg  \n",
            "  inflating: /content/dataset_AnomalyTrack/dataset_AnomalyTrack/images/validation0000.jpg  \n",
            "  inflating: /content/dataset_AnomalyTrack/dataset_AnomalyTrack/images/validation0001.jpg  \n",
            "  inflating: /content/dataset_AnomalyTrack/dataset_AnomalyTrack/images/validation0002.jpg  \n",
            "  inflating: /content/dataset_AnomalyTrack/dataset_AnomalyTrack/images/validation0003.jpg  \n",
            "  inflating: /content/dataset_AnomalyTrack/dataset_AnomalyTrack/images/validation0004.jpg  \n",
            " extracting: /content/dataset_AnomalyTrack/dataset_AnomalyTrack/images/validation0005.jpg  \n",
            "  inflating: /content/dataset_AnomalyTrack/dataset_AnomalyTrack/images/validation0006.jpg  \n",
            "  inflating: /content/dataset_AnomalyTrack/dataset_AnomalyTrack/images/validation0007.jpg  \n",
            "  inflating: /content/dataset_AnomalyTrack/dataset_AnomalyTrack/images/validation0008.jpg  \n",
            "  inflating: /content/dataset_AnomalyTrack/dataset_AnomalyTrack/images/validation0009.jpg  \n",
            "  inflating: /content/dataset_AnomalyTrack/dataset_AnomalyTrack/images/zebra0000.jpg  \n",
            "  inflating: /content/dataset_AnomalyTrack/dataset_AnomalyTrack/images/zebra0001.jpg  \n",
            "   creating: /content/dataset_AnomalyTrack/dataset_AnomalyTrack/labels_masks/\n",
            "  inflating: /content/dataset_AnomalyTrack/dataset_AnomalyTrack/labels_masks/validation0000_labels_semantic.png  \n",
            "  inflating: /content/dataset_AnomalyTrack/dataset_AnomalyTrack/labels_masks/validation0000_labels_semantic_color.png  \n",
            "  inflating: /content/dataset_AnomalyTrack/dataset_AnomalyTrack/labels_masks/validation0001_labels_semantic.png  \n",
            "  inflating: /content/dataset_AnomalyTrack/dataset_AnomalyTrack/labels_masks/validation0001_labels_semantic_color.png  \n",
            "  inflating: /content/dataset_AnomalyTrack/dataset_AnomalyTrack/labels_masks/validation0002_labels_semantic.png  \n",
            "  inflating: /content/dataset_AnomalyTrack/dataset_AnomalyTrack/labels_masks/validation0002_labels_semantic_color.png  \n",
            "  inflating: /content/dataset_AnomalyTrack/dataset_AnomalyTrack/labels_masks/validation0003_labels_semantic.png  \n",
            "  inflating: /content/dataset_AnomalyTrack/dataset_AnomalyTrack/labels_masks/validation0003_labels_semantic_color.png  \n",
            "  inflating: /content/dataset_AnomalyTrack/dataset_AnomalyTrack/labels_masks/validation0004_labels_semantic.png  \n",
            "  inflating: /content/dataset_AnomalyTrack/dataset_AnomalyTrack/labels_masks/validation0004_labels_semantic_color.png  \n",
            "  inflating: /content/dataset_AnomalyTrack/dataset_AnomalyTrack/labels_masks/validation0005_labels_semantic.png  \n",
            "  inflating: /content/dataset_AnomalyTrack/dataset_AnomalyTrack/labels_masks/validation0005_labels_semantic_color.png  \n",
            "  inflating: /content/dataset_AnomalyTrack/dataset_AnomalyTrack/labels_masks/validation0006_labels_semantic.png  \n",
            "  inflating: /content/dataset_AnomalyTrack/dataset_AnomalyTrack/labels_masks/validation0006_labels_semantic_color.png  \n",
            "  inflating: /content/dataset_AnomalyTrack/dataset_AnomalyTrack/labels_masks/validation0007_labels_semantic.png  \n",
            "  inflating: /content/dataset_AnomalyTrack/dataset_AnomalyTrack/labels_masks/validation0007_labels_semantic_color.png  \n",
            "  inflating: /content/dataset_AnomalyTrack/dataset_AnomalyTrack/labels_masks/validation0008_labels_semantic.png  \n",
            "  inflating: /content/dataset_AnomalyTrack/dataset_AnomalyTrack/labels_masks/validation0008_labels_semantic_color.png  \n",
            "  inflating: /content/dataset_AnomalyTrack/dataset_AnomalyTrack/labels_masks/validation0009_labels_semantic.png  \n",
            "  inflating: /content/dataset_AnomalyTrack/dataset_AnomalyTrack/labels_masks/validation0009_labels_semantic_color.png  \n"
          ]
        }
      ]
    }
  ]
}