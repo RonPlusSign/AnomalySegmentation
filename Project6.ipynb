{
  "nbformat": 4,
  "nbformat_minor": 0,
  "metadata": {
    "colab": {
      "provenance": []
    },
    "kernelspec": {
      "name": "python3",
      "display_name": "Python 3"
    },
    "language_info": {
      "name": "python"
    }
  },
  "cells": [
    {
      "cell_type": "markdown",
      "source": [
        "[![Open In Colab](https://colab.research.google.com/assets/colab-badge.svg)](https://colab.research.google.com/github/RonPlusSign/AnomalySegmentation/blob/chris-1/Project6.ipynb)"
      ],
      "metadata": {
        "id": "ypo8OBRZ-1p3"
      }
    },
    {
      "cell_type": "markdown",
      "source": [
        "# **Anomaly Segmentation Project 6**\n",
        "##*Andrea Delli, Christian Dellisanti, Giorgia Modi*"
      ],
      "metadata": {
        "id": "AUjRrYEW8-uz"
      }
    },
    {
      "cell_type": "markdown",
      "source": [
        "###**Dataset Preparation**"
      ],
      "metadata": {
        "id": "4x3MajLNeXhX"
      }
    },
    {
      "cell_type": "code",
      "source": [
        "'''\n",
        "SMIYC RA-21\n",
        "if not os.path.isfile('/content/dataset_AnomalyTrack.zip'):\n",
        "  !wget https://zenodo.org/record/5270237/files/dataset_AnomalyTrack.zip\n",
        "if not os.path.isdir('/content/dataset_AnomalyTrack'):\n",
        "  !unzip ./dataset_AnomalyTrack.zip\n",
        "#SMIYC RO-21\n",
        "if not os.path.isfile('/content/dataset_ObstacleTrack.zip'):\n",
        "  !wget https://zenodo.org/record/5281633/files/dataset_ObstacleTrack.zip\n",
        "if not os.path.isdir('/content/dataset_ObstacleTrack'):\n",
        "  !unzip ./dataset_ObstacleTrack.zip\n",
        "\n",
        "#FS L&F\n",
        "if not os.path.isfile('/content/fishyscapes_lostandfound.zip'):\n",
        "  !wget http://robotics.ethz.ch/~asl-datasets/Fishyscapes/fishyscapes_lostandfound.zip\n",
        "if not os.path.isdir('/content/fishyscapes_lostandfound'):\n",
        "  !unzip ./fishyscapes_lostandfound.zip -d fishyscapes_lostandfound\n",
        "'''\n",
        "\n",
        "import sys, os\n",
        "if not os.path.isfile('/content/Validation_Dataset.zip'):\n",
        "  !gdown 12YJq48XkCxQHjN3CmLc-zM5dThSak4Ta\n",
        "if not os.path.isdir('/content/Validation_Dataset'):\n",
        "  !unzip Validation_Dataset.zip\n"
      ],
      "metadata": {
        "colab": {
          "base_uri": "https://localhost:8080/"
        },
        "collapsed": true,
        "id": "B_tj8W3BeVPo",
        "outputId": "2b8828d0-05ed-4588-dab1-48ea592be7cd"
      },
      "execution_count": 3,
      "outputs": [
        {
          "output_type": "stream",
          "name": "stdout",
          "text": [
            "['7.png', '17.png', '51.png', '11.png', '78.png', '54.png', '36.png', '22.png', '99.png', '58.png', '76.png', '81.png', '30.png', '55.png', '43.png', '8.png', '26.png', '14.png', '49.png', '33.png', '53.png', '79.png', '96.png', '62.png', '61.png', '10.png', '67.png', '68.png', '57.png', '87.png', '45.png', '38.png', '34.png', '3.png', '94.png', '35.png', '86.png', '46.png', '84.png', '29.png', '25.png', '27.png', '16.png', '98.png', '39.png', '74.png', '0.png', '89.png', '64.png', '66.png', '72.png', '20.png', '4.png', '85.png', '1.png', '40.png', '5.png', '47.png', '80.png', '37.png', '70.png', '97.png', '50.png', '90.png', '95.png', '31.png', '82.png', '93.png', '92.png', '13.png', '42.png', '69.png', '52.png', '59.png', '75.png', '77.png', '21.png', '63.png', '9.png', '60.png', '2.png', '73.png', '18.png', '41.png', '23.png', '44.png', '56.png', '32.png', '24.png', '12.png', '19.png', '71.png', '28.png', '88.png', '83.png', '6.png', '91.png', '48.png', '65.png', '15.png']\n"
          ]
        }
      ]
    },
    {
      "cell_type": "markdown",
      "source": [
        "**DATASET MANAGEMENT**"
      ],
      "metadata": {
        "id": "zXztTueNBgkk"
      }
    },
    {
      "cell_type": "code",
      "source": [
        "from torch.utils.data import Dataset\n",
        "import os\n",
        "\n",
        "from PIL import Image\n",
        "import sys\n",
        "\n",
        "\n",
        "def pil_loader(path):\n",
        "    # open path as file to avoid ResourceWarning (https://github.com/python-pillow/Pillow/issues/835)\n",
        "    with open(f\"/content/Validation_Dataset/{path}\", 'rb') as f:\n",
        "        img = Image.open(f)\n",
        "        return img.convert('RGB')\n",
        "\n",
        "\n",
        "# Define the Dataset class\n",
        "class PACSDataset(Dataset):\n",
        "    def __init__(self, root= \"/content/Validation_Dataset\", source_domain=\"FS_LostFound_full\" , dataset_transform=None):\n",
        "      super(PACSDataset, self).__init__( )\n",
        "\n",
        "      self.dataset_transform = dataset_transform\n",
        "\n",
        "      self.root=f\"{root}/{source_domain}\"\n",
        "      self.data   = os.listdir(f\"{root}/{source_domain}/images\")\n",
        "      #self.labels = os.listdir(f\"{root}/{source_domain}/labels_masks\")\n",
        "\n",
        "\n",
        "\n",
        "    def __len__(self):\n",
        "        return len(self.data)\n",
        "\n",
        "    def __getitem__(self, index):\n",
        "\n",
        "      image, label = pil_loader(f\"images/{self.data[index]}\"), pil_loader(f\"labels_masks/{self.data[index]}\")\n",
        "\n",
        "      # Applies preprocessing when accessing the image\n",
        "      if self.dataset_transform is not None:\n",
        "          image = self.dataset_transform(image)\n",
        "\n",
        "      return image, label\n",
        "\n",
        "\n",
        "\n",
        "\n"
      ],
      "metadata": {
        "id": "mNB5VstJIcYf"
      },
      "execution_count": null,
      "outputs": []
    }
  ]
}